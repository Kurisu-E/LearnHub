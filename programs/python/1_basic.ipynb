{
 "cells": [
  {
   "cell_type": "markdown",
   "metadata": {},
   "source": [
    "## Python概述\n",
    "\n",
    "### 运算符\n",
    "\n",
    "#### 算术运算符\n",
    "\n",
    "|运算符|实例|备注|\n",
    "|:---:|:---:|:---:|\n",
    "|`+`| `5 + 2 = 7` ||\n",
    "|`-`| `5 - 2 = 3`, `{1, 2} - {1, 3} = {2}` |在集合中也是差集的运算符|\n",
    "|`*`| `5 * 2 = 10` ||\n",
    "|`/`| `5 / 2 = 2.5` |在 Python2 中是相当于 `//`|\n",
    "|`//`| `5 // 2 = 2.5` |除后向下取整，相当于$\\lfloor5/2\\rfloor$|\n",
    "|`%`| `5 % 2 = 1` |取余的正负与后者一致|\n",
    "|`**`| `5 ** 2 = 25` |Exponent 指数，相当于 $5^2$|"
   ]
  },
  {
   "cell_type": "code",
   "execution_count": null,
   "metadata": {},
   "outputs": [],
   "source": [
    "x = 1.2\n",
    "y = 2.3\n",
    "print(x % y)\n",
    "print((-x) % y) # 余数均是正数，等于 y - x % y\n",
    "print(x % (-y))\n",
    "print((-x) % (-y)) # 相当于 -(x % y)"
   ]
  },
  {
   "cell_type": "markdown",
   "metadata": {},
   "source": [
    "#### 位运算符\n",
    "\n",
    "|运算符|实例|备注|\n",
    "|:---:|:---:|:---:|\n",
    "|`&`| `6 & 5 = 4`, `{1, 2} & {1, 3} = {1}` | AND, `0b0110 & 0b0101 = 0b0100`, 集合中也是交集运算符 |\n",
    "|`\\|`| `6 \\| 5 = 7`, `{1, 2} \\| {1, 3} = {1, 2, 3}` | OR, `0b0110 \\| 0b0101 = 0b0111`, 集合中也是并集运算符 |\n",
    "|`^`| `6 ^ 5 = 3`, `{1, 2} ^ {1, 3} = {2, 3}` | XOR, `0b0110 ^ 0b0101 = 0b0011`, 集合中也是对称差集运算符 |\n",
    "|`~`| `~5 = -6` | NOT, `~0b0101 = 0b1010 = -0b0110`, 可以视为符号变化再减1|\n",
    "|`<<`| `3 << 2 = 6` | Zero fill left shift, `0b0011 << 2 = 0b1100` |\n",
    "|`>>`| `6 >> 2 = 1` | Signed right shift, `0b0110 >> 2 = 0b0001` |\n",
    "\n",
    "#### 比较运算符\n",
    "\n",
    "同 C++\n",
    "\n",
    "#### 逻辑运算符\n",
    "\n",
    "`and`, `or`, `not`\n",
    "\n",
    "#### 身份运算符\n",
    "\n",
    "用于通过**内存地址**比较变量是否是同一个**对象**，但不适用于**数值**、**字符串**、**元组** (**immutable 不可变数据类型**)(因为 Python 底层为了性能而可能将**相同的数值或字符串指向同样的内存地址**，在变量改变时通过新建内存地址来改变其值, 而列表、字典等可变数组类型是通过包含多个内存地址存储的)\n",
    "\n",
    "`is`, `is not`"
   ]
  },
  {
   "cell_type": "code",
   "execution_count": null,
   "metadata": {},
   "outputs": [],
   "source": [
    "x = [\"apple\", \"banana\"]\n",
    "y = [\"apple\", \"banana\"]\n",
    "z = x\n",
    "\n",
    "print(x is z) # returns True because z is the same object as x\n",
    "print(x is y) # returns False because x is not the same object as y, even if they have the same content\n",
    "print(x == y) # to demonstrate the difference between \"is\" and \"==\": this comparison returns True because x is equal to y\n",
    "\n",
    "# but numbers and strings and tuples are a bit different\n",
    "a = 123\n",
    "b = 123\n",
    "print(a is b) # 不要用is比较数值或者字符串，因为结果不可预测，相同值可能是不同的对象也可能用同一地址\n",
    "print(id(a))\n",
    "print(id(b))\n",
    "b = 124\n",
    "print(a is b) # 不要用is比较数值或者字符串，因为结果不可预测，相同值可能是不同的对象也可能用同一地址\n",
    "print(id(a))\n",
    "print(id(b))\n",
    "\n",
    "aa = (1)\n",
    "bb = (1)\n",
    "print(aa is bb)\n",
    "print(id(aa))\n",
    "print(id(bb))"
   ]
  },
  {
   "cell_type": "markdown",
   "metadata": {},
   "source": [
    "#### 成员运算符\n",
    "\n",
    "测试序列是否在对象中出现\n",
    "\n",
    "`in`, `not in`\n",
    "\n",
    "## 数据类型\n",
    "\n",
    "### String 字符串\n",
    "\n",
    "**需要注意的是 Python 内方法返回的均是临时变量，原对象并不改变*\n",
    "\n",
    "**以查、增(拼)、拆(分)、删、改的顺序*\n",
    "\n",
    "#### String 检查\n",
    "\n",
    "```python\n",
    "##### 数字检测 #####\n",
    "# Unicode数字('012') 全角阿拉伯数字('０１２') 均可以\n",
    "# byte数字(b'012') 只有 isdigit() 为 True，其余 Error\n",
    "# 非阿拉伯数字(①㈠⒈⒒⑴ⅰⅠ〇一贰) 只有 isnumeric() 为 True，其余 False\n",
    "# 均不检测小数\n",
    "def isdigit() '-> bool' # byte数字为 True，非阿拉伯数字为 False\n",
    "def isdecimal() '-> bool' # 只能检测 Unicode数字和全角阿拉伯数字\n",
    "def isnumeric() '-> bool' # 可以检测非阿拉伯数字\n",
    "##### 字母检测 #####\n",
    "def isalpha() '-> bool' # 只由字母 (包括汉字) 组成\n",
    "def isalnum() '-> bool' # 只由字母和数字组成, 数字检测均可以\n",
    "def islower() '-> bool' # 字母是否均小写 (可以包含其它字符)\n",
    "def isupper() '-> bool' # 字母是否均大写 (可以包含其它字符)\n",
    "def istitle() '-> bool' # 字母符合标题标准 (可以包含其它字符)\n",
    "def isascii() '-> bool' # 只有 ASCII 字符\n",
    "##### 空白和标识符检测 #####\n",
    "def isidentifier() '-> bool' # 合法的标识符/变量名\n",
    "def isspace() '-> bool' # 由空白字符组成\n",
    "def isprintable() '-> bool' # 由可打印字符组成\n",
    "##### 子串检测 #####\n",
    "def startswith(\n",
    "  prefix: str | tuple[str, ...],\n",
    "  start: SupportsIndex | None = ...,\n",
    "  end = SupportsIndex | None = ...\n",
    ") '-> bool' # 是否以 prefix 开头, start 和 end 是可选参数，表示待检测字符串检测的起始和结束位置\n",
    "def endswith(\n",
    "  suffix: str | tuple[str, ...], \n",
    "  start: SupportsIndex | None = ..., \n",
    "  end = SupportsIndex | None = ..\n",
    ") '-> bool' # 是否以 suffix 结尾，同上，注意是 [start, end) 区间，从 0 开始\n",
    "sub_str in str_name '-> bool' # 检查子字符串是否在原字符串中，同样适用于其它数组类型\n",
    "sub_str not in str_name '-> bool' \n",
    "```"
   ]
  },
  {
   "cell_type": "code",
   "execution_count": null,
   "metadata": {},
   "outputs": [],
   "source": [
    "message = \"hello world\"\n",
    "print(len(message))\n",
    "print(message.__len__())\n",
    "\n",
    "print(\"0０\".isdigit()) # 均可以检测\n",
    "print(b\"012\".isdigit()) # 只有isdigit() 为 True，其余 Error\n",
    "print(\"①㈠⒈⒒⑴ⅰⅠ〇一贰\".isnumeric()) # 只有isnumeric() 为 True，其余 False\n",
    "\n",
    "print(\"a0Ⅰ\".isalnum())\n",
    "print(b\"123and\".isalnum())\n",
    "print(\"12.1 abs!\".islower())\n",
    "print(\"12.2 AWB!\".isupper())\n",
    "print(\"1.About Is 22A!\".istitle())\n",
    "print(\"123ads\\ \\t\\n\\b\\\\?!@\".isascii())\n",
    "\n",
    "print(\"num_best\".isidentifier())\n",
    "print(\" \\t \\n \\f \\v \\r\".isspace()) # 只有 空格 \\t \\n \\f \\v \\r\n",
    "print(\"123abc?!:：０一\\'\\\"\\\\\".isprintable()) # 除去 \\b \\f \\v \\r \\t \\n \\a\n",
    "\n",
    "print(message.startswith(\"llo\", 2)) # 原字符串的下标为2开始，即 \"llo\"\n",
    "print(message.endswith(\"llo\", None, 5)) # 原字符串的开始至第5个字符，即 \"hello\"\n",
    "print(\"o w\" in message)\n",
    "print(\"hll\" not in message)"
   ]
  },
  {
   "cell_type": "markdown",
   "metadata": {},
   "source": [
    "#### String 查找\n",
    "\n",
    "```python\n",
    "str[start: end: step = 1] '-> str' # 指定下标获取字符, 与有序数组的索引一致, 但用此不可修改!!\n",
    "def count(\n",
    "  sub: str,\n",
    "  start = SupportsIndex | None = ...,\n",
    "  end = SupportsIndex | None = ...\n",
    ") '-> int' # 指定值在字符串中出现的次数\n",
    "def find(\n",
    "  sub: str,\n",
    "  start = SupportsIndex | None = ...,\n",
    "  end = SupportsIndex | None = ...\n",
    ") '-> int' # 搜索指定的值并返回被找到的位置(左) # 如果没有找到返回-1\n",
    "def index(\n",
    "  sub: str,\n",
    "  start = SupportsIndex | None = ...,\n",
    "  end = SupportsIndex | None = ...\n",
    ") '-> int' # 搜索指定的值并返回被找到的位置 # 如果没有找到则抛出异常\n",
    "def rfind(\n",
    "  sub: str,\n",
    "  start = SupportsIndex | None = ...,\n",
    "  end = SupportsIndex | None = ...\n",
    ") '-> int' # 搜索指定的值并返回被找到的位置(右)\n",
    "def rindex(\n",
    "  sub: str,\n",
    "  start = SupportsIndex | None = ...,\n",
    "  end = SupportsIndex | None = ...\n",
    ") '-> int' # 搜索指定的值并返回被找到的位置(右)\n",
    "```"
   ]
  },
  {
   "cell_type": "code",
   "execution_count": null,
   "metadata": {},
   "outputs": [],
   "source": [
    "number = \"991129019\"\n",
    "print(number[4:9:2])\n",
    "print(number[::-1])\n",
    "print(number.count(\"1\", 2, 5))\n",
    "print(number.find(\"1\"))\n",
    "print(number.index(\"1\", 3)) # 指定范围\n",
    "print(number.rfind(\"1\"))\n",
    "print(number.rindex(\"1\", None, 3))"
   ]
  },
  {
   "cell_type": "markdown",
   "metadata": {},
   "source": [
    "#### String 合并（拼接）\n",
    "\n",
    "```python\n",
    "str1 + str2 '-> str' # 可以用 + 拼接，但不能和非字符串对象拼接\n",
    "def join(iterable: iterable[str]) '-> str' # 以字符串作为分隔符，拼接可迭代对象，iterable 可以是 list, tuple, set, dict, string\n",
    "```"
   ]
  },
  {
   "cell_type": "code",
   "execution_count": null,
   "metadata": {},
   "outputs": [],
   "source": [
    "first_name = \"chris\"\n",
    "last_name = \"evans\"\n",
    "print(first_name + \" \" + last_name)\n",
    "my_tuple = (\"chris\", \"evans\", \"hello\", \"world\")\n",
    "my_list = [\"chris\", \"evans\", \"hello\", \"world\"]\n",
    "my_set = {\"chris\", \"evans\", \"hello\", \"world\"}\n",
    "my_dict = {\"name\": \"Bill\", \"country\": \"USA\"}\n",
    "print(\" \".join(my_tuple))\n",
    "print(\"#\".join(my_list))\n",
    "print(\"-\".join(my_set))\n",
    "print(\" TEST \".join(my_dict)) # 字典拼接的是 Keys 键而非 Values 值\n",
    "print(\" \".join(\"helloworld\"))"
   ]
  },
  {
   "cell_type": "markdown",
   "metadata": {},
   "source": [
    "#### String 拆分\n",
    "\n",
    "```python\n",
    "def partition(sep: LiteralString) '-> tuple[str, str, str]' # 将字符串分割为三部分，见下\n",
    "def rpartition(sep: LiteralString) '-> tuple[str, str, str]' # 从右找分隔字符串\n",
    "def split(\n",
    "  sep: LiteralString | None = None,\n",
    "  maxsplit: SupportsIndex = -1\n",
    ") '-> list[str]' # 将字符串按照分隔符分割，默认是连续的空白，返回一个列表，maxsplit为最大分割次数，-1代表全部分割，分割后的字符串不包含分隔符\n",
    "def rsplit(\n",
    "  sep: LiteralString | None = None,\n",
    "  maxsplit: SupportsIndex = -1\n",
    ") '-> list[str]'\n",
    "def splitlines(keepends: bool = False) '-> list[str]' # 按照换行符分割，返回一个列表，keepends为是否保留换行符\n",
    "```"
   ]
  },
  {
   "cell_type": "code",
   "execution_count": null,
   "metadata": {},
   "outputs": [],
   "source": [
    "txt = \"I    could eat bananas all day\"\n",
    "print(txt.partition(\"apples\"))\n",
    "print(txt.partition(\"l\"))\n",
    "print(txt.rpartition(\"l\"))\n",
    "print(txt.split())\n",
    "print(txt.split(\"l\"))\n",
    "print(txt.rsplit(\"l\", 2))\n",
    "print(\"I have a bird,\\nbut I don't like it.\\nAnyway I feed it.\".splitlines())\n",
    "print(\"I have a bird,\\nbut I don't like it.\\nAnyway I feed it.\".splitlines(True))"
   ]
  },
  {
   "cell_type": "markdown",
   "metadata": {},
   "source": [
    "#### String 修剪\n",
    "\n",
    "```python\n",
    "def strip(chars: LiteralString | None = None) '-> str' # 删除字符串两边的指定字符，默认是连续的空白\n",
    "def lstrip(chars: LiteralString | None = None) '-> str' # 删除字符串左边\n",
    "def rstrip(chars: LiteralString | None = None) '-> str' # 删除字符串右边\n",
    "def removeprefix(prefix: LiteralString) '-> str' # 删除字符串开头的指定字符串\n",
    "def removesuffix(suffix: LiteralString) '-> str' # 删除字符串结尾的指定字符串\n",
    "```"
   ]
  },
  {
   "cell_type": "code",
   "execution_count": null,
   "metadata": {},
   "outputs": [],
   "source": [
    "message = \" \\tpython hello!\\n \"\n",
    "print(\"000 01110000\".strip(\"0\"))\n",
    "print(\"0010 2 112110100\".strip(\"10\")) # 左右两侧包含 1 和 0 的连续字符串都会被删除，不需要考虑 10 顺序\n",
    "print(message.strip())  # \"python hello!\"\n",
    "print(message.lstrip()) # \"python hello!\\n \"\n",
    "print(message.rstrip()) # \" \\tpython hello!\"\n",
    "print(message.removeprefix(\" \\tpy\")) # \"thon hello!\\n \"\n",
    "print(message.lstrip().removesuffix(\"!\\n \")) # \"python hello\""
   ]
  },
  {
   "cell_type": "markdown",
   "metadata": {},
   "source": [
    "#### 修改 String 大小写\n",
    "\n",
    "```python\n",
    "def upper() '-> str' # 全大写\n",
    "def lower(), casefold()  '-> str' # 全小写, 前者用于呈现小写，后者用于比较两个字符串\n",
    "def swapcase() '-> str' # 大小写互换\n",
    "def capitalize() '-> str' # 首字母大写\n",
    "def title() '-> str' # 对任意连续的字母段, 首字母大写\n",
    "```"
   ]
  },
  {
   "cell_type": "code",
   "execution_count": null,
   "metadata": {},
   "outputs": [],
   "source": [
    "name = \"chrIs-chr1s evans_3vanS\"\n",
    "print(name.upper())\n",
    "print(name.lower())\n",
    "print(name.casefold())\n",
    "print(name.swapcase())\n",
    "print(name.capitalize())\n",
    "print(name.title())"
   ]
  },
  {
   "cell_type": "markdown",
   "metadata": {},
   "source": [
    "#### String 替换\n",
    "\n",
    "```python\n",
    "def replace(\n",
    "  old: LiteralString,\n",
    "  new: LiteralString,\n",
    "  count: SupportsIndex = -1\n",
    ") '-> str' # 将字符串中的 old 替换为 new，count 为最大替换次数\n",
    "```"
   ]
  },
  {
   "cell_type": "code",
   "execution_count": null,
   "metadata": {},
   "outputs": [],
   "source": [
    "message = \"I have a bird, but I don't like it. Anyway I feed it.\"\n",
    "print(message.replace(\"I\", \"You\", 2))"
   ]
  },
  {
   "cell_type": "markdown",
   "metadata": {},
   "source": [
    "#### String 格式化\n",
    "\n",
    "```python\n",
    "\"string to be formatted\"%(values or variables to be inserted into string, separated by commas) '-> str' # 在字符串内用 placeholders 占位符 %s, %d, %f 等表示要插入的值\n",
    "def format(\n",
    "  *args: object,\n",
    "  **kwargs: object\n",
    ") '-> str' # 更高级的格式化，字符串内占位符用 {key} 或 {id} 或 {} 表示\n",
    "```\n",
    "\n",
    "|格式化类型|效果|示例|结果|\n",
    "|:---:|:---:|:---:|:---:|\n",
    "|`:<`|左对齐|`\"We have {:<8} chickens.\".format(49)`|`We have 49　　　 chickens.`|\n",
    "|`:`|右对齐|`\"We have {:>8} chickens.\".format(49)`|`We have 　　　49 chickens.`|\n",
    "|`:^`|居中|`\"We have {:^8} chickens.\".format(49)`|`We have 　 49　　chickens.`|\n",
    "|`:=`|标号靠左|`\"The temperature is {:=8} degrees celsius.\".format(-5)`|`The temperature is -　　　5 degrees celsius.`|\n",
    "|`:+`|标识正负|`\"The temperature is between {:+} and {:+} degrees celsius.\".format(-3, 7)`|`The temperature is between -3 and +7 degrees celsius.`|\n",
    "|`:-`|只有负数前加负号|`\"The temperature is between {:-} and {:-} degrees celsius.\".format(-3, 7)`|`The temperature is between -3 and 7 degrees celsius.`|\n",
    "|`: `|正数前加空格|`\"The temperature is between {: } and {: } degrees celsius.\".format(-3, 7)`|`The temperature is between -3 and　7 degrees celsius.`|\n",
    "|`:,`|千位分隔符|`\"The universe is {:,} years old.\".format(13800000000)`|`The universe is 13,800,000,000 years old.`|\n",
    "|`:_`|千位分隔符，用下划线|`\"The universe is {:_} years old.\".format(13800000000)`|`The universe is 13_800_000_000 years old.`|\n",
    "|`:b`|二进制|`\"The binary version of {0} is {0:b}\".format(5)`|`The binary version of 5 is 101`|\n",
    "|`:c`|转为Unicode码|`\"{0:c}'s capital letter is {1:c}\".format(0x0061, 0x0041)`|`a's capital letter is A`|\n",
    "|`:d`|十进制|`\"The decimal version of {0} is {0:d}\".format(16)`|`The decimal version of 16 is 16`|\n",
    "|`:e`|科学计数法|`\"We have {:e} chickens.\".format(5)`|`We have 5.000000e+00 chickens.`|\n",
    "|`:E`|科学计数法，大写|`\"We have {:E} chickens.\".format(5)`|`We have 5.000000E+00 chickens.`|\n",
    "|`:f`|定点数字格式|`\"The price is {:f} dollars.\".format(45)`|`The price is 45.000000 dollars.`|\n",
    "|`:F`|定点数字格式，inf, nan 会大写成 INF, NAN|`\"The price is {:F} dollars.\".format(float(inf))`|`The price is INF dollars.`|\n",
    "|`:g`|自动选择`e`或`f`|`\"The price is {:g} dollars.\".format(45)`|`The price is 45 dollars.`|\n",
    "|`:G`|自动选择`E`或`F`|`\"The price is {:G} dollars.\".format(45)`|`The price is 45 dollars.`|\n",
    "|`:o`|八进制|`\"The octal version of {0} is {0:o}\".format(8)`|`The octal version of 8 is 10`|\n",
    "|`:x`|十六进制|`\"The hexadecimal version of {0} is {0:x}\".format(31)`|`The hexadecimal version of 16 is 1f`|\n",
    "|`:X`|十六进制，大写|`\"The hexadecimal version of {0} is {0:X}\".format(16)`|`The hexadecimal version of 16 is 1F`|\n",
    "|`:n`|数字格式|`\"The price is {:n} dollars.\".format(-45.1)`|`The price is -45.1 dollars.`|\n",
    "|`:%`|百分比，数值大小不变的|`\"The price is {:%} dollars.\".format(-45.1)`|`The price is -4,510.000000% dollars.`|\n",
    "\n",
    "```python\n",
    "def expandtabs(tabsize: SupportsIndex = 8) '-> str' # 修改 tab 的宽度，默认为8个空格\n",
    "def center(\n",
    "  width: SupportsIndex,\n",
    "  fillchar: LiteralString = \" \"\n",
    ") '-> str' # 居中，长度为 width，用 char 填充，默认用空格，非对称时偏左\n",
    "def ljust(\n",
    "  width: SupportsIndex,\n",
    "  fillchar: LiteralString = \" \"\n",
    ") '-> str' # 左对齐，长度为 width，用 char 填充\n",
    "def rjust(\n",
    "  width: SupportsIndex,\n",
    "  fillchar: LiteralString = \" \"\n",
    ") '-> str' # 右对齐，长度为 width，用 char 填充\n",
    "def zfil(width: SupportsIndex) '-> str' # 左填充0，使整体长度为 width\n",
    "```"
   ]
  },
  {
   "cell_type": "code",
   "execution_count": null,
   "metadata": {},
   "outputs": [],
   "source": [
    "message = \"The price of this %s laptop is %4d USD and the exchange rate is %5.2f USD to 1 EUR\"%(\"Apple\", 129.9, 1.235235)\n",
    "print(message)\n",
    "\"\"\"\n",
    "%s 是 string, 事实上能作为任意类型的占位符\n",
    "%d 是 digit(int), %4d 表示宽度为4, 不足4位时在左边补空格. 要是 float 类型会截断小数位\n",
    "%f 是 float, %4.2f 表示宽度为5, 小数点后保留2位, 则整数位(包括符号)只有2位. 不足4位时在左边补空格\n",
    "\"\"\"\n",
    "\n",
    "txt = \"For only {dollar:.2f} dollars or {0:.2f} USD and {1:.2f} RMB!\"\n",
    "# print(txt.format(49, dollar=150, -49)) # positional argument follows keyword argument\n",
    "print(txt.format(49, -49, dollar=150))\n",
    "\n",
    "print(\"Languages:\\n\\tPython\\n\\tC\\n\\tJavaScript\".expandtabs(2))\n",
    "\n",
    "number = \"991129019\"\n",
    "print(number.center(20)) # 居中，长度为20\n",
    "print(number.ljust(20, \"*\")) # 左对齐，长度为20，用*填充\n",
    "print(number.rjust(20, \"0\")) # 右对齐，长度为20，用0填充\n",
    "print(number.zfill(10)) # 效果同 rjust(width, \"0\")"
   ]
  },
  {
   "cell_type": "markdown",
   "metadata": {},
   "source": [
    "### List 列表\n",
    "\n",
    "#### List 查找\n",
    "\n",
    "```python\n",
    "def index(\n",
    "  value: Any,\n",
    "  start: SupportsIndex = 0,\n",
    "  end: SupportsIndex = sys.maxsize\n",
    ") '-> int' # 在 [start, end) 范围内查找第一个 value 的索引，若不存在则抛出 ValueError\n",
    "def count(value: Any) '-> int'\n",
    "```"
   ]
  },
  {
   "cell_type": "code",
   "execution_count": null,
   "metadata": {},
   "outputs": [],
   "source": [
    "digits = [0, 0, 1, 2, 10, 20, 2, 0, 1]\n",
    "print(digits.index(1))\n",
    "print(digits.count(0))\n",
    "print(0 in digits)\n",
    "\n",
    "# list 无内置从右找的函数，但可以用[::-1]或reserve()实现\n",
    "print(len(digits) - digits[::-1].index(1) - 1)"
   ]
  },
  {
   "cell_type": "markdown",
   "metadata": {},
   "source": [
    "\n",
    "#### List 增添（拼接）\n",
    "\n",
    "```python\n",
    "list1 + list2 '-> list'\n",
    "def append(object: Any) '-> None' # 在末尾添加一个元素\n",
    "def extend(iterable: Iterable) '-> None' # 在末尾添加多个元素\n",
    "def insert(\n",
    "  index: SupportsIndex,\n",
    "  object: Any\n",
    ") '-> None' # 在指定位置插入一个元素 (插入后插入元素在指定索引位置)\n",
    "```"
   ]
  },
  {
   "cell_type": "code",
   "execution_count": null,
   "metadata": {},
   "outputs": [],
   "source": [
    "digits = [0, 0, 1, 2, 10, 20, 2, 0, 1]\n",
    "digits.append('1')\n",
    "digits.extend(['4', '5'])\n",
    "digits.insert(2, 'insert')\n",
    "print(digits)\n",
    "print(digits + [100, 200])"
   ]
  },
  {
   "cell_type": "markdown",
   "metadata": {},
   "source": [
    "#### List 删除\n",
    "\n",
    "```python\n",
    "def remove(object: Any) '-> None' # 删除第一个匹配的元素，无返回元素，找不到抛出异常\n",
    "def pop(index: SupportsIndex = -1) '-> Any' # 删除指定位置的元素，并返回该元素\n",
    "def clear() '-> None' # 清空列表\n",
    "```"
   ]
  },
  {
   "cell_type": "code",
   "execution_count": null,
   "metadata": {},
   "outputs": [],
   "source": [
    "digits = [0, 0, 1, 2, 10, 20, 2, 0, 1]\n",
    "digits.remove(0)\n",
    "print(digits)\n",
    "print(digits.pop(-2))\n",
    "print(digits)\n",
    "digits.clear()\n",
    "print(digits)"
   ]
  },
  {
   "cell_type": "markdown",
   "metadata": {},
   "source": [
    "#### List 组织（复制、排序、逆序）\n",
    "\n",
    "```python\n",
    "##### 复制 #####\n",
    "def copy() '-> list' # 产生一份拷贝副本\n",
    "list_name[:] # 同上\n",
    "list(list_name) # 同上\n",
    "##### 排序 #####\n",
    "def sort(\n",
    "  *, # 必须用关键字参数，无法使用位置参数\n",
    "  key: None = None,\n",
    "  reverse: bool = False\n",
    ") '-> None' # 排序，key 可以用排序函数输入，reverse 为 True 时逆序\n",
    "list_name = sorted(list_name) # 同上，sorted 返回排序后的新列表，但原列表无变化\n",
    "##### 逆序 #####\n",
    "def reverse() '-> None' # 逆序\n",
    "list_name = list_name[::-1] # 同上\n",
    "```"
   ]
  },
  {
   "cell_type": "code",
   "execution_count": null,
   "metadata": {},
   "outputs": [],
   "source": [
    "def myFunc(e):\n",
    "  return -2*e**2+10\n",
    "\n",
    "digits = [0, 0, 1, 2, 10, 20, 2, 0, 1]\n",
    "digits.sort(key=myFunc, reverse=True)\n",
    "print(digits)\n",
    "\n",
    "digits[::-1].remove(0) # 副本删除后原列表仍存在\n",
    "digits.reverse()\n",
    "print(digits)"
   ]
  },
  {
   "cell_type": "markdown",
   "metadata": {},
   "source": [
    "### Tuple 元组\n",
    "\n",
    "元组是不可变的列表\n",
    "\n",
    "只能查找\n",
    "\n",
    "#### Tuple 查找\n",
    "\n",
    "```python\n",
    "def index(\n",
    "  value: Any,\n",
    "  start: SupportsIndex = 0,\n",
    "  end: SupportsIndex = sys.maxsize\n",
    ") '-> int' # 在 [start, end) 范围内查找第一个 value 的索引，若不存在则抛出 ValueError\n",
    "def count(value: Any) '-> int'\n",
    "```"
   ]
  },
  {
   "cell_type": "code",
   "execution_count": null,
   "metadata": {},
   "outputs": [],
   "source": [
    "my_tuple = (\"apple\", \"banana\", \"cherry\")\n",
    "print(my_tuple.index(\"cherry\"))\n",
    "print(my_tuple.count(\"apple\"))\n",
    "# my_tuple + ('fault') # 错误，元组不可变"
   ]
  },
  {
   "cell_type": "markdown",
   "metadata": {},
   "source": [
    "### Set 集合\n",
    "\n",
    "Set 是无索引不重复的数组，无法查找，只能检测元素是否在集合内，集合内的元素必须是**可哈希的** (例如列表、集合、字典不可哈希)\n",
    "\n",
    "#### Set 检查\n",
    "\n",
    "```python\n",
    "def isdisjoint(s: Iterable) '-> bool' # 检查与另一个数组是否有交集\n",
    "def issubset(s: Iterable) '-> bool' # 检查是否是另一个集合的子集\n",
    "def issuperset(s: Iterable) '-> bool' # 检查是否是另一个集合的超集\n",
    "value in set_name '-> bool'\n",
    "value not in set_name '-> bool'\n",
    "```"
   ]
  },
  {
   "cell_type": "code",
   "execution_count": null,
   "metadata": {},
   "outputs": [],
   "source": [
    "my_set = {1, 2, 3, 1}\n",
    "print(my_set)\n",
    "# print(my_set[0]) # 错误，集合无索引\n",
    "\n",
    "print(my_set.isdisjoint([0, -1]))\n",
    "print(my_set.issubset((1, 2, 3)))\n",
    "print(my_set.issuperset({1: 0})) # 集合的返回值事实上是 key，在这里是 1 所以是其子集，返回 True"
   ]
  },
  {
   "cell_type": "markdown",
   "metadata": {},
   "source": [
    "#### Set 增添\n",
    "\n",
    "```python\n",
    "def add(element: Any) '-> None' # 添加一个元素\n",
    "```"
   ]
  },
  {
   "cell_type": "code",
   "execution_count": null,
   "metadata": {},
   "outputs": [],
   "source": [
    "set1 = {1, 2, 3, 4}\n",
    "\n",
    "# set1 + set2 # 集合无法用 + 连接合并\n",
    "set1.add(5)\n",
    "print(set1)"
   ]
  },
  {
   "cell_type": "markdown",
   "metadata": {},
   "source": [
    "#### Set 删除\n",
    "\n",
    "```python\n",
    "def remove(element: Any) '-> None' # 删除一个元素，若不存在则抛出 ValueError\n",
    "def discard(element: Any) '-> None' # 删除一个元素，若不存在则什么都不做\n",
    "def pop() '-> Any' # 随机删除并弹出一个元素\n",
    "def clear() '-> None' # 清空集合\n",
    "```"
   ]
  },
  {
   "cell_type": "code",
   "execution_count": null,
   "metadata": {},
   "outputs": [],
   "source": [
    "set1 = {-1, 1, 2, 3, 4}\n",
    "\n",
    "set1.remove(1)\n",
    "print(set1)\n",
    "print(set1.pop())\n",
    "print(set1)\n",
    "set1.discard(-2)\n",
    "print(set1)"
   ]
  },
  {
   "cell_type": "markdown",
   "metadata": {},
   "source": [
    "#### Set 运算（交集、并集、差集、对称差集）\n",
    "\n",
    "```python\n",
    "def union(s: Iterable) '-> set' # 产生并集，但不改变原集合，下同\n",
    "def intersection(s: Iterable) '-> set' # 产生交集\n",
    "def difference(s: Iterable) '-> set' # 产生差集\n",
    "def symmetric_difference(s: Iterable) '-> set' # 产生对称差集\n",
    "def update(s: Iterable) '-> None' # 更新为并集，但无返回值，下同\n",
    "def intersection_update(s: Iterable) '-> None' # 更新为交集\n",
    "def difference_update(s: Iterable) '-> None' # 更新为差集\n",
    "def symmetric_difference_update(s: Iterable) '-> None' # 更新为对称差集\n",
    "```"
   ]
  },
  {
   "cell_type": "code",
   "execution_count": null,
   "metadata": {},
   "outputs": [],
   "source": [
    "set1 = {1, 2, 3, 4}\n",
    "set2 = {0, 2, 4, 6}\n",
    "print(set1.union(set2))\n",
    "print(set1.intersection(set2))\n",
    "print(set1.difference(set2))\n",
    "print(set1.symmetric_difference(set2))\n",
    "print(set1)\n",
    "print(set2)\n",
    "print(set1.update(set2))\n",
    "print(set1)"
   ]
  },
  {
   "cell_type": "markdown",
   "metadata": {},
   "source": [
    "### Dictionary 字典\n",
    "\n",
    "字典是有关键词作索引的集合\n",
    "\n",
    "#### Dictionary 查找\n",
    "\n",
    "```python\n",
    "dict_name[key] '-> Any' # 可以通过关键词查找，找不到会报错\n",
    "def get(key: Any) '-> Any | None' # 查找 key，若不存在则返回 None\n",
    "def keys() '-> dict_keys' # 返回所有 key\n",
    "def values() '-> dict_values' # 返回所有 value\n",
    "def items() '-> dict_items' # 返回所有 (key, value) 元组\n",
    "```"
   ]
  },
  {
   "cell_type": "code",
   "execution_count": null,
   "metadata": {},
   "outputs": [],
   "source": [
    "my_dict = {\"apple\": 1, \"banana\": 2, \"cherry\": 3}\n",
    "print(my_dict)\n",
    "print(my_dict[\"apple\"])\n",
    "print(my_dict.get(\"12\"))\n",
    "print(my_dict.keys())\n",
    "print(my_dict.values())\n",
    "print(my_dict.items())"
   ]
  },
  {
   "cell_type": "markdown",
   "metadata": {},
   "source": [
    "#### Dictionary 增添和修改\n",
    "\n",
    "```python\n",
    "dict_name[key] = value # 直接添加\n",
    "def setdefault(key: Any, default: Any) '-> Any' # 添加一个 key-value 对，若 key 已存在则返回原 value，请不覆盖\n",
    "def update(m: SupportsKeysAndGetItem, /, **kwargs: Any) '-> None' # 输入可以包含 key-value 对的可迭代容器，效果同上\n",
    "```"
   ]
  },
  {
   "cell_type": "code",
   "execution_count": null,
   "metadata": {},
   "outputs": [],
   "source": [
    "my_dict = {\"apple\": 1, \"banana\": 2, \"cherry\": 3}\n",
    "my_dict[\"fault\"] = 4\n",
    "print(my_dict)\n",
    "\n",
    "my_dict.update([(\"any\", '1'), {\"apple\", 6}, [\"False\", False]])\n",
    "my_dict.update(((\"any\", '1'), {\"apple\", 6}, [\"False\", False]))\n",
    "my_dict.update({(\"any\", '1'), (\"apple\", 6), (\"False\", False)})\n",
    "my_dict.update({\"any\": '1', \"apple\": 6, \"False\": False})\n",
    "\"\"\"\n",
    "容器用列表[]或元组()时, key-value 对可以用 [], (), {}, 之间需要用 `,` 分隔\n",
    "容器用集合{}时, key-value 对只能用 (), 因为元组()可哈希, 其余的数组类型是不可哈希的\n",
    "容器可以直接用字典{key: value}表示\n",
    "\"\"\"\n",
    "print(my_dict)\n",
    "\n",
    "my_dict.update(One=1, Two=2)\n",
    "print(my_dict)\n",
    "\n",
    "print(my_dict.setdefault(\"fault\", 5))\n",
    "print(my_dict)"
   ]
  },
  {
   "cell_type": "markdown",
   "metadata": {},
   "source": [
    "#### Dictionary 删除\n",
    "\n",
    "```python\n",
    "def pop(\n",
    "  key: Any,\n",
    "  default: Any = _NOT_FOUND\n",
    ") '-> Any' # 删除一个 key-value 对，并返回 value，若 key 不存在则抛出 KeyError\n",
    "def popitem() '-> tuple' # 删除一个 key-value 对，并返回 (key, value) 元组，若字典为空则抛出 KeyError\n",
    "def clear() '-> None'\n",
    "```"
   ]
  },
  {
   "cell_type": "code",
   "execution_count": null,
   "metadata": {},
   "outputs": [],
   "source": [
    "my_dict = {\"apple\": 1, \"banana\": 2, \"cherry\": 3}\n",
    "print(my_dict.pop('apple'))\n",
    "print(my_dict)\n",
    "# print(my_dict.pop('app')) # KeyError\n",
    "print(my_dict.pop('app', 'Error'))\n",
    "print(my_dict)\n",
    "print(my_dict.popitem())"
   ]
  },
  {
   "cell_type": "markdown",
   "metadata": {},
   "source": [
    "#### Dictionary 创建\n",
    "\n",
    "**值得注意的是直接创建 `{}` 的类型是 `dict` 而非 `set`*\n",
    "\n",
    "```python\n",
    "def fromkeys(\n",
    "  iterable: Iterable,\n",
    "  value: Any = None\n",
    ") '-> dict' # 从一个可迭代容器创建字典，所有 key 的 value 均为 value，可以用 dict 的成员方法，也可以用已有 dict 对象的成员方法，不改变原对象\n",
    "```"
   ]
  },
  {
   "cell_type": "code",
   "execution_count": null,
   "metadata": {},
   "outputs": [],
   "source": [
    "dict1 = dict.fromkeys([\"apple\", \"banana\", \"cherry\"], 1)\n",
    "print(dict1)\n",
    "\n",
    "dict2 = dict1.fromkeys([\"apple\", \"banana\", \"cherry\"], 2)\n",
    "print(dict1)\n",
    "print(dict2)\n",
    "\n",
    "print(type({}))"
   ]
  },
  {
   "cell_type": "markdown",
   "metadata": {},
   "source": [
    "### Comprehension 解析式\n",
    "\n",
    "**解析式**源自数学的集合定义，大多用于数值数组，也可以用字符串表示或是嵌套表示\n",
    "\n",
    "```python\n",
    "values = array(expression for item in collection if condition)\n",
    "```\n",
    "\n",
    "`max`, `min`, `sum` 等函数用于计算数值数组的最大值、最小值、和."
   ]
  },
  {
   "cell_type": "code",
   "execution_count": null,
   "metadata": {},
   "outputs": [],
   "source": [
    "d = {f'{i**2}':i for i in range(100) if (i**2*4-1) % 5 == 0}\n",
    "print(d)\n",
    "\n",
    "cities = ['New York', 'Oklahoma', 'Toronto', 'Los Angeles', 'Miami']\n",
    "budgets = {city: [0 for x in range(12)] for city in cities}\n",
    "print(budgets)\n",
    "\n",
    "matrix = [[x for x in range(7)] for y in range(6)]\n",
    "print(matrix)\n",
    "\n",
    "flat = [num for row in matrix for num in row]\n",
    "print(flat)"
   ]
  },
  {
   "cell_type": "markdown",
   "metadata": {},
   "source": [
    "### Iterator 迭代器\n",
    "\n",
    "对于字符串、列表等可迭代对象，可以从中获取迭代器.\n",
    "\n",
    "`iter()` 迭代器本身存储的是地址，需要通过 `list(iter)` 或 `next(iter)` 将其指向内容**以列表形式显示**或**逐个显示**\n",
    "\n",
    "事实上 `for x in iterable` 就是利用了迭代器的特性，每次循环都调用 `next(iter)`，直到 `StopIteration`"
   ]
  },
  {
   "cell_type": "code",
   "execution_count": null,
   "metadata": {},
   "outputs": [],
   "source": [
    "my_tuple = (\"apple\", \"banana\", \"cherry\")\n",
    "my_it = iter(my_tuple)\n",
    "\n",
    "print(my_it)\n",
    "# print(list(my_it)) # 若此时直接 list 全部显示, 则迭代器已经到结尾, 之后 next 会报错\n",
    "print(next(my_it))\n",
    "print(next(my_it))\n",
    "print(my_it)\n",
    "print(list(my_it))\n",
    "# print(next(my_it)) # StopIteration, 迭代器已经全部显示"
   ]
  },
  {
   "cell_type": "markdown",
   "metadata": {},
   "source": [
    "### 变量作用域\n",
    "\n",
    "**局部变量**在函数内部定义，**全局变量**在函数外部定义.\n",
    "\n",
    "函数内部可以访问全局变量，但若要修改全局变量，需要使用 `global` 关键字，否则会创建一个同名的局部变量."
   ]
  },
  {
   "cell_type": "markdown",
   "metadata": {},
   "source": [
    "## 交互\n",
    "\n",
    "### print 输出\n",
    "\n",
    "```python\n",
    "def print(\n",
    "  *values: object,\n",
    "  sep: str | None = \" \",\n",
    "  end: str | None = \"\\n\",\n",
    "  file: SupportsWrite[str] | _SupportsWriteAndFlush[str] | None = None, # 支持写入的类文件流, 默认是当前的sys.stdout. 若 flush=True, 则需要能够刷新的类文件流\n",
    "  flush: bool = False # 实时输出, 而非等待缓冲区满或程序结束. 见下例子\n",
    ") -> None\n",
    "```"
   ]
  },
  {
   "cell_type": "code",
   "execution_count": null,
   "metadata": {},
   "outputs": [],
   "source": [
    "import time\n",
    "\n",
    "for i in range(20):\n",
    "  print(i, end=' ', flush=True)\n",
    "  time.sleep(0.1)  # 模拟耗时操作\n",
    "\n",
    "print()\n",
    "time.sleep(1)\n",
    "\n",
    "for i in range(20):\n",
    "  print(i, end=' ')\n",
    "  time.sleep(0.1)"
   ]
  },
  {
   "cell_type": "markdown",
   "metadata": {},
   "source": [
    "### input 输入\n",
    "\n",
    "```python\n",
    "def input(prompt: object = \"\") -> str # prompt为提示信息, 见下例. 输出的形式始终是字符串\n",
    "```"
   ]
  },
  {
   "cell_type": "code",
   "execution_count": null,
   "metadata": {},
   "outputs": [],
   "source": [
    "a = input(\"Input integer: \")\n",
    "print(type(a))\n",
    "print(a)"
   ]
  },
  {
   "cell_type": "markdown",
   "metadata": {},
   "source": [
    "## function 函数\n",
    "\n",
    "### 实参\n",
    "\n",
    "用 `*args` 表示接受任意数量的实参 (arguments)，以**元组形式**存储，用 `**kwargs` 表示任意数量的**关键字实参** (keyword arguments)，以**字典形式**存储，`*` 和 `**` 来自编译原理内的闭包和解包.\n",
    "\n",
    "将 `*` 作为函数的第一个位置形参时，这将代表之后的位置实参**只能通过关键字实参**的方式输入"
   ]
  },
  {
   "cell_type": "code",
   "execution_count": null,
   "metadata": {},
   "outputs": [],
   "source": [
    "def make_pizza(size, *toppings):\n",
    "  print(f\"Making a {size}-inch pizza with the following toppings:\")\n",
    "  print(toppings)\n",
    "  for topping in toppings:\n",
    "    topping = topping.title()\n",
    "    print(f\"- {topping}\")\n",
    "\n",
    "make_pizza(16, 'pepperoni')\n",
    "make_pizza(12, 'mushrooms', 'green peppers', 'extra cheese')"
   ]
  },
  {
   "cell_type": "code",
   "execution_count": null,
   "metadata": {},
   "outputs": [],
   "source": [
    "def build_profile(first, last, **user_info):\n",
    "  profile = {}\n",
    "  profile['first_name'] = first\n",
    "  profile['last_name'] = last\n",
    "  for key, value in user_info.items():\n",
    "    profile[key] = value\n",
    "  return profile\n",
    "\n",
    "user_profile = build_profile('albert', 'einstein', location='princeton', field='physics')\n",
    "print(user_profile)"
   ]
  },
  {
   "cell_type": "markdown",
   "metadata": {},
   "source": [
    "### lambda 函数\n",
    "\n",
    "```python\n",
    "lambda arguments: expression\n",
    "```"
   ]
  },
  {
   "cell_type": "code",
   "execution_count": null,
   "metadata": {},
   "outputs": [],
   "source": [
    "sum_fun = lambda num1, num2: num1 + num2\n",
    "print(sum_fun(1, 2))\n",
    "\n",
    "# 更多用于制造函数指针\n",
    "def func(n):\n",
    "  return lambda a: a * n\n",
    "\n",
    "doubler = func(2)\n",
    "tripler = func(3)\n",
    "print(doubler(11))\n",
    "print(tripler(11))"
   ]
  },
  {
   "cell_type": "markdown",
   "metadata": {},
   "source": [
    "### build-in function 内置函数\n",
    "\n",
    "#### 输入输出\n",
    "\n",
    "`print()` 和 `input()`. 在**交互**一节\n",
    "\n",
    "#### 数据类型\n",
    "\n",
    "`int()`, `float()` 等. 在 **Type Casting 类型转换**一节\n",
    "\n",
    "#### 迭代器\n",
    "\n",
    "`iter()`, `next()`. 在 **Iterator 迭代器**一节\n",
    "\n",
    "#### 数学运算\n",
    "\n",
    "| 函数 | 描述 |\n",
    "| :---: | :---: |\n",
    "| `abs(x: SupportsAbs)` | 返回绝对值/模 |\n",
    "| `divmod(x: SupportsDivMod, y: _T_contra)` | 元组形式返回商和余数 |\n",
    "| `round(number: SupportsRound, ndigits: SupportsIndex \\| None = None)` | 四舍五入, `ndigits` 为保留小数位数. 复数不适用. `round(-1.5) = -2, round(1.5) = 2` |\n",
    "| `pow(base, exp, mod=None)` | 幂运算. 若填入 `mod` 则三参数必须**均为整数**, 相当于 `base**exp % mod`, 但效率更高. 若此时 `exp` 为负, 填入 `mod` 于 `base` 互质, 用于寻找**模逆元** |\n",
    "| `min(arg1, arg2, *arg, key=None)`, `min(iterable, *, key=None, default)` | 返回最小值, `key` 为排序函数, `default` 为 `iterable` 为空时返回值 |\n",
    "| `max()` | 返回最大值, 同 `min` |\n",
    "| `sum(iterable: Iterable[SupportsSumNoDefault], start: int = 0)` | 返回和 |"
   ]
  },
  {
   "cell_type": "code",
   "execution_count": null,
   "metadata": {},
   "outputs": [],
   "source": [
    "print(abs(1-1j)) # 1.414...\n",
    "print(divmod(5, -2)) # (-3, -1)\n",
    "print(round(-1.5, 0)) # -2\n",
    "print(pow(-9, 0.5)) # 3j\n",
    "print(pow(3, 2, 7)) # 2\n",
    "print(pow(3, -3, 7)) # 6 # inv_base**exp * x % mod == 1 -> pow(inv_base, -exp, mod) = x \n",
    "print(min(2, 3, -2, key=abs)) # 2\n",
    "print(sum([1.2, 1, True])) # 3\n"
   ]
  },
  {
   "cell_type": "markdown",
   "metadata": {},
   "source": [
    "#### 进位转换\n",
    "\n",
    "| 函数 | 描述 |\n",
    "| :---: | :---: |\n",
    "| `bin(x: SupportsInt)` | 返回二进制字符串 |\n",
    "| `oct(x: SupportsInt)` | 返回八进制字符串 |\n",
    "| `hex(x: SupportsInt)` | 返回十六进制字符串 |\n",
    "\n",
    "#### 数组 (序列) 操作\n",
    "\n",
    "| 函数 | 描述 |\n",
    "| :---: | :---: |\n",
    "| `len(obj: Sized)` | 返回对象长度 |\n",
    "| `all(iterable: Iterable[object])` | 若 `iterable` 全为 `True` 则返回 `True` |\n",
    "| `any(iterable: Iterable[object])` | 若 `iterable` 中存在 `True` 则返回 `True` |\n",
    "| `slice(start[, stop, step])` | 返回一个切分对象, 如 `1:-1:2` |\n",
    "| `sorted(iterable: Iterable[SupportsRichComparison], *, key=None, reverse: bool = False)` | 返回一个**列表**, 对 `iterable` 进行排序, `key` 位置实参为排序函数, `reverse` 指定是否逆序 |\n",
    "| `reversed(sequence: Reversible)` | 返回一个**迭代器**, 依次返回 `sequence` 中每个元素的反向顺序 |\n",
    "| `zip(*iterables, strict=False)` | 返回一个迭代器, 依次返回 `iterables` 中每个元素对应位置组成的元组, 直至**其中一个可迭代对象**用完. 若 `strict=True`, 则必须同时用完, 否则报错 |\n",
    "| `enumerate(iterable, start: int = 0)` | 返回一个迭代器, 依次返回 `iterable` 中索引及其对应元素的元组, 注意**索引在前** |\n",
    "| `filter(function, iterable)` | 返回一个迭代器, 依次返回 `iterable` 中使 `function` 返回 `True` 的元素 |\n",
    "| `map(function, iterable)` | 返回一个迭代器, 依次返回 `function(iterable)` 的结果 |"
   ]
  },
  {
   "cell_type": "code",
   "execution_count": null,
   "metadata": {},
   "outputs": [],
   "source": [
    "l = [22, 12, -3, 84, 11]\n",
    "print(all([0, 1, 2]))\n",
    "print(any([0, 1, 2]))\n",
    "print(l[slice(1, -1, 2)]) # 通常还是直接使用 l[1:-1:2]\n",
    "print(sorted(l))\n",
    "print(list(reversed(l)))\n",
    "print('The original list is still:', l) # 以上操作均未改变原列表\n",
    "print(list(zip('abcdefg', range(3), range(4))))\n",
    "print(list(enumerate('abcdefg', 4)))\n",
    "print(list(filter(lambda x: x > 0, l)))\n",
    "print(list(map(lambda x: x**2, l)))"
   ]
  },
  {
   "cell_type": "markdown",
   "metadata": {},
   "source": [
    "\n",
    "#### 字符串操作\n",
    "\n",
    "| 函数 | 描述 |\n",
    "| :---: | :---: |\n",
    "| `repr(obj: object)` | 返回对象的字符串表示, 即 raw string |\n",
    "| `ascii(obj: object)` | 将 Unicode 字符串转换为 ASCII 字符串 |\n",
    "| `ord(c: str \\| bytes \\| bytearray)` | 返回字符 `c` 的编码位置 |\n",
    "| `chr(i: int)` | 返回 `i` 对应的字符 |"
   ]
  },
  {
   "cell_type": "code",
   "execution_count": null,
   "metadata": {},
   "outputs": [],
   "source": [
    "print(str('Hello, 克里斯\\n'))\n",
    "print(repr('Hello, 克里斯\\n'))\n",
    "print(ascii('Hello, 克里斯\\n'))\n",
    "print('Hello, 克里斯\\n'.encode())\n",
    "print(ord('A'))\n",
    "print(chr(65))"
   ]
  },
  {
   "cell_type": "markdown",
   "metadata": {},
   "source": [
    "#### 文件操作\n",
    "\n",
    "```python\n",
    "def open(\n",
    "  file: FileDescriptorOrPath,\n",
    "  mode: OpenTextMode = \"r\",\n",
    "  buffering: int = -1,\n",
    "  encoding: str | None = None,\n",
    "  errors: str | None = None,\n",
    "  newline: str | None = None,\n",
    "  closefd: bool = True,\n",
    "  opener: _Opener | None = None\n",
    ") -> TextIOWrapper[_WrappedBuffer]\n",
    "```\n",
    "\n",
    "#### 作用域\n",
    "\n",
    "```python\n",
    "def locals() '-> dict[str, Any]' # 返回当前作用域中的变量名字和值\n",
    "def globals() '-> dict[str, Any]' # 返回全局作用域中的变量名字和值"
   ]
  },
  {
   "cell_type": "code",
   "execution_count": null,
   "metadata": {},
   "outputs": [],
   "source": [
    "def func():\n",
    "  a = 100\n",
    "  b = 'abc'\n",
    "  print(locals())\n",
    "  print('-------')\n",
    "  print(globals())\n",
    "\n",
    "func()"
   ]
  },
  {
   "cell_type": "markdown",
   "metadata": {},
   "source": [
    "更多内置函数见[Python_官方文档_内置函数](https://docs.python.org/zh-cn/3.11/library/functions.html#func-range)\n",
    "\n",
    "## class 类和 object 对象\n",
    "\n",
    "### 定义类\n",
    "\n",
    "通常用 `__init__(self, ...)` 方法来初始化对象，`self` 代表对象本身（事实上可以用任意名称，只需要在函数内统一即可，且必须是方法的**第一个参数**，但调用时但调用时不需要传递该参数），是一个指向实例本身的引用，`__init__` 是类的**构造函数**，在启动类时执行，也可以不用 `__init__()` 方法. 成员变量在 `__init__()` 方法内定义, 用 `self.var = value` 的方式定义. \n",
    "\n",
    "### derive 继承\n",
    "\n",
    "基本同 C++\n",
    "\n",
    "```python\n",
    "class ChildClass(ParentClass[, ParentClass1, ...]):\n",
    "  def __init__(self, ...): # 若使用了 __init__() 方法则会覆盖父类的 __init__() 方法\n",
    "    super().__init__(...) # 调用父类的 __init__() 方法使子类能够同步父类的属性和方法\n",
    "```"
   ]
  },
  {
   "cell_type": "code",
   "execution_count": null,
   "metadata": {},
   "outputs": [],
   "source": [
    "class Car(): # 括号内为空代表此为父类\n",
    "  def __init__(self, make, model, year):\n",
    "    self.make = make\n",
    "    self.model = model\n",
    "    self.year = year\n",
    "    self.odometer_reading = 0\n",
    "\n",
    "  def get_descriptive_name(self):\n",
    "    long_name = f\"{self.year} {self.make} {self.model}\"\n",
    "    return long_name.title()\n",
    "\n",
    "  def read_odometer(self):\n",
    "    print(f\"This car has {self.odometer_reading} miles on it.\")\n",
    "  \n",
    "  def update_odometer(self, mileage):\n",
    "    if mileage >= self.odometer_reading:\n",
    "      self.odometer_reading = mileage\n",
    "    else:\n",
    "      print(\"You can't roll back an odometer!\")\n",
    "\n",
    "  def increment_odometer(self, miles):\n",
    "    self.odometer_reading += miles\n",
    "\n",
    "class ElectricCar(Car): # 括号内为父类, 也称超类 (superclass)\n",
    "  def __init__(self, make, model, year):\n",
    "    super().__init__(make, model, year)\n",
    "    self.battery_size = 70\n",
    "\n",
    "  def describe_battery(self): \n",
    "    print(\"This car has a \" + str(self.battery_size) + \"-kWh battery.\")\n",
    "\n",
    "my_tesla = ElectricCar('tesla', 'model s', 2019)\n",
    "print(my_tesla.get_descriptive_name())\n",
    "my_tesla.describe_battery()"
   ]
  },
  {
   "cell_type": "markdown",
   "metadata": {},
   "source": [
    "### magic/special method 魔法方法\n",
    "\n",
    "见[Python_官方文档_魔法方法](https://docs.python.org/zh-cn/3.11/reference/datamodel.html#special-method-names)\n",
    "\n",
    "## 文件处理\n",
    "\n",
    "```python\n",
    "def open(\n",
    "  file: FileDescriptorOrPath,\n",
    "  mode: OpenMode = \"rt\", # 文件打开模式, 默认是 `rt`, 可以用 [ r | w | a | x ][ + ][ b | t ] 的组合选择\n",
    "  buffering: int = -1, # 缓冲区大小, 默认为 -1, 表示使用系统默认值, 0 表示不使用缓冲区 (仅对二进制文件有效), 1 表示使用行缓冲区 (仅对文本文件有效), 大于 1 的整数表示缓冲区大小\n",
    "  encoding: str | None = None, # 编码格式, windows默认系统是用 `gbk` 编码, 需要根据文件保存的编码格式来设置, 建议均设置为 `utf-8`\n",
    "  errors: str | None = None, # 错误处理方式, 默认为 `None`, 等同于 `strict`, 表示遇到错误时抛出异常, 可以设置为 `ignore`, `replace` 等\n",
    "  newline: str | None = None, # 换行符处理方式, 默认为 `None`, 所有换行处理为 `\\n`, 若用 `\"\"`, 则等同于 `\\r\\n` 独立\n",
    "  closefd: bool = True,\n",
    "  opener: _Opener | None = None\n",
    ") -> TextIOWrapper[_WrappedBuffer]\n",
    "```\n",
    "\n",
    "对于文件打开模式有, 主要理解**光标位置**, 之后的 `read()` 就是**通过光标移动读取**的, 第一次读取完成后光标会移动到文件末尾, **再次读取时读到空**\n",
    "\n",
    "- `r`, 读取, 默认值, 文件不存在则**报错**, 光标在**开头**\n",
    "- `w`, 写入, 文件存在则**清空**, 文件不存在则**创建**, 光标在**开头**\n",
    "- `a`, 追加, 文件存在则在文件末尾追加, 文件不存在则**创建**. 光标在**末尾**\n",
    "- `x`, 创建, **创建新文件**, 文件存在则**报错**, 光标在**开头**\n",
    "- `t`, 文本, 默认值. 文件模式下读取文件会将行末结束符转换为 `\\n`, 这会破坏 `jpeg` 或 `exe` 等二进制文件的数据, 因此在读取此类文件时一定要指定 `b` 二进制模式\n",
    "- `b`, 二进制, 以字节为单位. 选定二进制后无法指定 `encoding`, `errors`, `newline` 参数\n",
    "- `+`, 更新, 可读可写"
   ]
  },
  {
   "cell_type": "code",
   "execution_count": null,
   "metadata": {},
   "outputs": [],
   "source": [
    "file_path = \"file_test.txt\"\n",
    "# file = open(file_path)\n",
    "# 可以通过这种方式获取文件IO, 但最后需要自行关闭文件 file.close().\n",
    "# 关闭文件是为了使读取在内存内的文件释放掉, 否则文件会一直占用内存, 并且有可能并未完全读写好文件\n",
    "with open(file_path, \"a+t\", encoding=\"utf-8\") as file: # 使用 with 语句可以在使用完成后自动关闭文件\n",
    "  print(\"1->\", file.read())\n",
    "  print(file.write(\"222\"))\n",
    "  print(\"2->\", file.read())\n",
    "  print(\"3->\", file.read())"
   ]
  },
  {
   "cell_type": "markdown",
   "metadata": {},
   "source": [
    "### 文件检测\n",
    "\n",
    "```python\n",
    "def isatty() '-> bool' # 判断文件是否是可交互的\n",
    "def readable() '-> bool' # 判断文件是否可读\n",
    "def writable() '-> bool' # 判断文件是否可写\n",
    "def seekable() '-> bool' # 判断文件是否可移动光标\n",
    "```"
   ]
  },
  {
   "cell_type": "code",
   "execution_count": null,
   "metadata": {},
   "outputs": [],
   "source": [
    "file_path = \"file_test.txt\"\n",
    "with open(file_path, \"r+t\", encoding=\"utf-8\") as file:\n",
    "  print(file.isatty())\n",
    "  print(file.readable())\n",
    "  print(file.writable())\n",
    "  print(file.seekable())"
   ]
  },
  {
   "cell_type": "markdown",
   "metadata": {},
   "source": [
    "\n",
    "### 文件读取\n",
    "\n",
    "```python\n",
    "def read(size: int | None = ...) '-> str | bytes' # 读取文件内容, size 表示读取的字符数或字节数, 默认为 -1, 表示读取全部内容\n",
    "def readline(size: int = -1) '-> str | bytes' # 读取一行内容, size 表示读取的字符数或字节数, 默认为 -1, 表示读取全部内容\n",
    "def readlines(hint: int = -1) '-> list[str | bytes]' # 读取所有行内容, hint 表示读取的行数, 默认为 -1, 表示读取全部内容\n",
    "```"
   ]
  },
  {
   "cell_type": "code",
   "execution_count": null,
   "metadata": {},
   "outputs": [],
   "source": [
    "file_path = \"file_test.txt\"\n",
    "with open(file_path, \"r+t\", encoding=\"utf-8\") as file:\n",
    "  print(\"1->\", file.readline()) # 读取一行后包括行尾结束符 \"\\n\", 而 print 本身会换行, 故之后有一行空行\n",
    "  print(\"2->\", file.readline(6))\n",
    "  print(\"3->\", file.readline(6))\n",
    "  print(file.read(4)) # 第一个是空行 \"\\n\", 后三个为 \"永远是\"\n",
    "  print(file.readlines())\n",
    "\n",
    "with open(file_path, \"r+t\", encoding=\"utf-8\", newline=\"\") as file:\n",
    "  print(\"1->\", file.readline()) # 读取一行后包括行尾结束符 \"\\r\\n\", 而 print 本身会换行, 故之后有一行空行\n",
    "  print(\"2->\", file.readline(6))\n",
    "  print(\"3->\", file.readline(6))\n",
    "  print(file.read(4)) # 前两个空行 \"\\r\\n\", 后三个为 \"永远是\"\n",
    "  print(file.readlines())\n",
    "\n",
    "with open(file_path, \"r+t\", encoding=\"utf-8\", newline=\"\\r\") as file:\n",
    "  print(\"1->\", file.readline()) # 读取一行后包括行尾结束符 \"\\r\\n\", 而 print 本身会换行, 故之后有一行空行\n",
    "  print(\"2->\", file.readline(6))\n",
    "  print(\"3->\", file.readline(6))\n",
    "  print(file.read(4)) # 前两个空行 \"\\r\\n\", 后三个为 \"永远是\"\n",
    "  print(file.readlines())\n",
    "\n",
    "with open(file_path, \"r+t\", encoding=\"utf-8\", newline=\"\\n\") as file:\n",
    "  print(\"1->\", file.readline()) # 读取一行后包括行尾结束符 \"\\r\\n\", 而 print 本身会换行, 故之后有一行空行\n",
    "  print(\"2->\", file.readline(6))\n",
    "  print(\"3->\", file.readline(6))\n",
    "  print(file.read(4)) # 前两个空行 \"\\r\\n\", 后三个为 \"永远是\"\n",
    "  print(file.readlines())"
   ]
  },
  {
   "cell_type": "markdown",
   "metadata": {},
   "source": [
    "### 文件写入\n",
    "\n",
    "```python\n",
    "def write(s: str | bytes) '-> int' # 写入文件内容, 返回写入的字节数\n",
    "def writelines(lines: Iterable[str | bytes]) '-> None' # 写入多行内容\n",
    "```\n",
    "\n",
    "### 文件操作\n",
    "\n",
    "```python\n",
    "def close() '-> None'\n",
    "def seek(\n",
    "  cookie: int,\n",
    "  whence: int = 0\n",
    ") '-> int' # 移动光标位置, cookie 表示移动的字节数, whence 表示从哪个位置开始移动, 0 表示从文件开头开始, 1 表示从当前位置开始, 2 表示从文件末尾开始\n",
    "def tell() '-> int' # 当前光标位置\n",
    "def truncate(size: int | None = ...) '-> int' # 截断文件内容, size 表示截断的字节数, 默认为 None, 表示截断到光标位置\n",
    "def detach() '-> _WrappedBuffer' # 分离文件对象和底层文件描述符, 返回底层文件描述符\n",
    "def fileno() '-> int' # 返回文件描述符\n",
    "def flush() '-> None' # 刷新文件缓冲区\n",
    "```"
   ]
  },
  {
   "cell_type": "code",
   "execution_count": null,
   "metadata": {},
   "outputs": [],
   "source": [
    "file_path = \"file_test.txt\"\n",
    "with open(file_path, \"r+t\", encoding=\"utf-8\") as file:\n",
    "  file.seek(4)\n",
    "  print(file.readline())\n",
    "  print(file.tell())\n",
    "  print(file.truncate(90)) # 只保留了前90个字符"
   ]
  }
 ],
 "metadata": {
  "kernelspec": {
   "display_name": "Python 3",
   "language": "python",
   "name": "python3"
  },
  "language_info": {
   "codemirror_mode": {
    "name": "ipython",
    "version": 3
   },
   "file_extension": ".py",
   "mimetype": "text/x-python",
   "name": "python",
   "nbconvert_exporter": "python",
   "pygments_lexer": "ipython3",
   "version": "3.11.9"
  }
 },
 "nbformat": 4,
 "nbformat_minor": 2
}
